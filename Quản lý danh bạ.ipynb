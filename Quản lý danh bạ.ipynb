{
 "cells": [
  {
   "cell_type": "code",
   "execution_count": 1,
   "id": "d0327dcc",
   "metadata": {},
   "outputs": [
    {
     "name": "stdout",
     "output_type": "stream",
     "text": [
      "Chọn tác vụ:\n",
      "1. Thêm liên hệ vào danh bạ\n",
      "2. Hiển thị danh sách liên hệ\n",
      "3. Thoát\n",
      "Nhập lựa chọn (1/2/3): 4\n",
      "Lựa chọn không hợp lệ. Vui lòng chọn lại.\n",
      "Chọn tác vụ:\n",
      "1. Thêm liên hệ vào danh bạ\n",
      "2. Hiển thị danh sách liên hệ\n",
      "3. Thoát\n",
      "Nhập lựa chọn (1/2/3): 6\n",
      "Lựa chọn không hợp lệ. Vui lòng chọn lại.\n",
      "Chọn tác vụ:\n",
      "1. Thêm liên hệ vào danh bạ\n",
      "2. Hiển thị danh sách liên hệ\n",
      "3. Thoát\n",
      "Nhập lựa chọn (1/2/3): 3\n",
      "Thoát chương trình.\n"
     ]
    }
   ],
   "source": [
    "class Contact:\n",
    "    def __init__(self, name, phone_number, email):\n",
    "        self.name = name\n",
    "        self.phone_number = phone_number\n",
    "        self.email = email\n",
    "\n",
    "    def __str__(self):\n",
    "        return f\"{self.name} - SĐT: {self.phone_number}, Email: {self.email}\"\n",
    "\n",
    "class AddressBook:\n",
    "    def __init__(self):\n",
    "        self.contacts = []\n",
    "\n",
    "    def add_contact(self, contact):\n",
    "        self.contacts.append(contact)\n",
    "\n",
    "    def display_contacts(self):\n",
    "        if not self.contacts:\n",
    "            print(\"Danh bạ trống.\")\n",
    "            return\n",
    "\n",
    "        print(\"Danh sách các liên hệ trong danh bạ:\")\n",
    "        for contact in self.contacts:\n",
    "            print(contact)\n",
    "\n",
    "def main():\n",
    "    address_book = AddressBook()\n",
    "\n",
    "    while True:\n",
    "        print(\"Chọn tác vụ:\")\n",
    "        print(\"1. Thêm liên hệ vào danh bạ\")\n",
    "        print(\"2. Hiển thị danh sách liên hệ\")\n",
    "        print(\"3. Thoát\")\n",
    "\n",
    "        choice = input(\"Nhập lựa chọn (1/2/3): \")\n",
    "\n",
    "        if choice == '1':\n",
    "            name = input(\"Nhập tên liên hệ: \")\n",
    "            phone_number = input(\"Nhập số điện thoại: \")\n",
    "            email = input(\"Nhập địa chỉ email: \")\n",
    "            contact = Contact(name, phone_number, email)\n",
    "            address_book.add_contact(contact)\n",
    "            print(\"Liên hệ đã được thêm vào danh bạ.\")\n",
    "        elif choice == '2':\n",
    "            address_book.display_contacts()\n",
    "        elif choice == '3':\n",
    "            print(\"Thoát chương trình.\")\n",
    "            break\n",
    "        else:\n",
    "            print(\"Lựa chọn không hợp lệ. Vui lòng chọn lại.\")\n",
    "\n",
    "if __name__ == \"__main__\":\n",
    "    main()\n"
   ]
  }
 ],
 "metadata": {
  "kernelspec": {
   "display_name": "Python 3 (ipykernel)",
   "language": "python",
   "name": "python3"
  },
  "language_info": {
   "codemirror_mode": {
    "name": "ipython",
    "version": 3
   },
   "file_extension": ".py",
   "mimetype": "text/x-python",
   "name": "python",
   "nbconvert_exporter": "python",
   "pygments_lexer": "ipython3",
   "version": "3.10.7"
  }
 },
 "nbformat": 4,
 "nbformat_minor": 5
}
