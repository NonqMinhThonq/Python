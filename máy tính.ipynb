{
 "cells": [
  {
   "cell_type": "code",
   "execution_count": 1,
   "id": "041f05ef",
   "metadata": {},
   "outputs": [
    {
     "name": "stdout",
     "output_type": "stream",
     "text": [
      "Chọn phép tính:\n",
      "1. Cộng\n",
      "2. Trừ\n",
      "3. Nhân\n",
      "4. Chia\n",
      "Nhập lựa chọn (1/2/3/4): 1\n",
      "Nhập số thứ nhất: 45\n",
      "Nhập số thứ hai: 3\n",
      "45.0 + 3.0 = 48.0\n"
     ]
    }
   ],
   "source": [
    "def add(x, y):\n",
    "    return x + y\n",
    "\n",
    "def subtract(x, y):\n",
    "    return x - y\n",
    "\n",
    "def multiply(x, y):\n",
    "    return x * y\n",
    "\n",
    "def divide(x, y):\n",
    "    if y == 0:\n",
    "        return \"Không thể chia cho 0\"\n",
    "    return x / y\n",
    "\n",
    "print(\"Chọn phép tính:\")\n",
    "print(\"1. Cộng\")\n",
    "print(\"2. Trừ\")\n",
    "print(\"3. Nhân\")\n",
    "print(\"4. Chia\")\n",
    "\n",
    "choice = input(\"Nhập lựa chọn (1/2/3/4): \")\n",
    "\n",
    "num1 = float(input(\"Nhập số thứ nhất: \"))\n",
    "num2 = float(input(\"Nhập số thứ hai: \"))\n",
    "\n",
    "if choice == '1':\n",
    "    print(num1, \"+\", num2, \"=\", add(num1, num2))\n",
    "elif choice == '2':\n",
    "    print(num1, \"-\", num2, \"=\", subtract(num1, num2))\n",
    "elif choice == '3':\n",
    "    print(num1, \"*\", num2, \"=\", multiply(num1, num2))\n",
    "elif choice == '4':\n",
    "    print(num1, \"/\", num2, \"=\", divide(num1, num2))\n",
    "else:\n",
    "    print(\"Lựa chọn không hợp lệ\")\n"
   ]
  }
 ],
 "metadata": {
  "kernelspec": {
   "display_name": "Python 3 (ipykernel)",
   "language": "python",
   "name": "python3"
  },
  "language_info": {
   "codemirror_mode": {
    "name": "ipython",
    "version": 3
   },
   "file_extension": ".py",
   "mimetype": "text/x-python",
   "name": "python",
   "nbconvert_exporter": "python",
   "pygments_lexer": "ipython3",
   "version": "3.10.7"
  }
 },
 "nbformat": 4,
 "nbformat_minor": 5
}
